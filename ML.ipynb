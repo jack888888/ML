{
 "cells": [
  {
   "attachments": {},
   "cell_type": "markdown",
   "metadata": {},
   "source": [
    "## Supervised Learning:\n",
    "    Classification(Predict the categroy)\n",
    "    Regression(Predict the value)\n",
    "## Unsupervised Learning:\n",
    "    Clustering\n",
    "    Compression\n",
    "## Semi-supervised Learning：\n",
    "## Reinforcement Learning："
   ]
  },
  {
   "cell_type": "raw",
   "metadata": {},
   "source": [
    "Feature\n",
    "    Feature extraction（无量纲化/标准化/归一化，离散化，定性特征转化成定量特征/oneHot编码，缺失值处理，数据转化）\n",
    "    Feature selection(过滤法，包装法，嵌入法)\n",
    "Algorithm\n",
    "    Liner Regression\n",
    "    Logistic Regression\n",
    "    Decision Trees\n",
    "    SVM\n",
    "    Naïve Bayesian\n",
    "    KNM\n",
    "    K-means\n",
    "    Random Forest\n"
   ]
  },
  {
   "cell_type": "code",
   "execution_count": null,
   "metadata": {},
   "outputs": [],
   "source": []
  },
  {
   "cell_type": "code",
   "execution_count": null,
   "metadata": {},
   "outputs": [],
   "source": []
  }
 ],
 "metadata": {
  "kernelspec": {
   "display_name": "Python 3",
   "language": "python",
   "name": "python3"
  },
  "language_info": {
   "codemirror_mode": {
    "name": "ipython",
    "version": 3
   },
   "file_extension": ".py",
   "mimetype": "text/x-python",
   "name": "python",
   "nbconvert_exporter": "python",
   "pygments_lexer": "ipython3",
   "version": "3.6.4"
  }
 },
 "nbformat": 4,
 "nbformat_minor": 2
}
