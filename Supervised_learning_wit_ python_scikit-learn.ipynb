{
 "cells": [
  {
   "attachments": {},
   "cell_type": "markdown",
   "metadata": {},
   "source": [
    "http://scikit-learn.org/stable/supervised_learning.html"
   ]
  },
  {
   "cell_type": "code",
   "execution_count": null,
   "metadata": {},
   "outputs": [],
   "source": [
    "import pandas as pd\n",
    "import numpy as np\n",
    "from sklearn import tree\n",
    "from sklearn.model_selection import train_test_split\n",
    "\n",
    "def read_data('file_name or connection string'):\n",
    "    #code to load raw data\n",
    "    raw_data = pd.read_csv('data.csv')\n",
    "    return raw_data\n",
    "\n",
    "def preprocess(data_raw):\n",
    "    #code to preprocess raw data\n",
    "    return data\n",
    "\n",
    "def train_test_split(data):\n",
    "    #code to split train and test set\n",
    "    train, test = train_test_split(train_df, test_size=0.25, random_state=2018)\n",
    "    X_train = train[features]\n",
    "    Y_train = train.y\n",
    "    X_test = test[features]\n",
    "    Y_test = test.y\n",
    "    return X_train,X_test,Y_train,Y_test\n",
    "\n",
    "data_raw=read_data('file_name or connection string') #load data\n",
    "data=preprocess(data_raw) #process data/feature engineering\n",
    "X_train,X_test,Y_train,Y_test=train_test_split(data) #train/test split\n",
    "\n",
    "model=tree.DecisionTreeClassifier()\n",
    "#train model from training set\n",
    "model.fit(X_train,Y_train)\n",
    "#predict result with trained model\n",
    "Y_pred=model.predict(X_test)\n",
    "#model scoring\n",
    "print(accuracy_score(Y_test,Y_pred))"
   ]
  },
  {
   "cell_type": "code",
   "execution_count": null,
   "metadata": {},
   "outputs": [],
   "source": []
  }
 ],
 "metadata": {
  "kernelspec": {
   "display_name": "Python 3",
   "language": "python",
   "name": "python3"
  },
  "language_info": {
   "codemirror_mode": {
    "name": "ipython",
    "version": 3
   },
   "file_extension": ".py",
   "mimetype": "text/x-python",
   "name": "python",
   "nbconvert_exporter": "python",
   "pygments_lexer": "ipython3",
   "version": "3.6.4"
  }
 },
 "nbformat": 4,
 "nbformat_minor": 2
}
